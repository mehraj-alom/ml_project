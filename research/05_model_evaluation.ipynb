{
 "cells": [
  {
   "cell_type": "code",
   "execution_count": 32,
   "id": "a65c6f43",
   "metadata": {},
   "outputs": [
    {
     "name": "stdout",
     "output_type": "stream",
     "text": [
      "/home/mehrajofficial000/venv/ml_project\n"
     ]
    }
   ],
   "source": [
    "import os \n",
    "!pwd"
   ]
  },
  {
   "cell_type": "code",
   "execution_count": 33,
   "id": "a614e069",
   "metadata": {},
   "outputs": [
    {
     "name": "stdout",
     "output_type": "stream",
     "text": [
      "/home/mehrajofficial000/venv/ml_project\n"
     ]
    }
   ],
   "source": [
    "#os.chdir(\"../\")\n",
    "!pwd"
   ]
  },
  {
   "cell_type": "code",
   "execution_count": 34,
   "id": "37dbc69f",
   "metadata": {},
   "outputs": [],
   "source": [
    "import tensorflow as tf\n",
    "model = tf.keras.models.load_model(\"artifacts/training/trained_model.keras\")"
   ]
  },
  {
   "cell_type": "code",
   "execution_count": 35,
   "id": "63bf2d97",
   "metadata": {},
   "outputs": [],
   "source": [
    "from dataclasses import dataclass\n",
    "from pathlib import Path\n",
    "\n",
    "\n",
    "@dataclass(frozen=True)\n",
    "class EvaluationConfig:\n",
    "    path_of_model : Path\n",
    "    training_data :Path\n",
    "    all_params : dict\n",
    "    params_image_size : list\n",
    "    params_batch_size : int  \n",
    "    params_learning_rate :float"
   ]
  },
  {
   "cell_type": "code",
   "execution_count": null,
   "id": "bff991d8",
   "metadata": {},
   "outputs": [],
   "source": [
    "from Classifier.constants import *\n",
    "from Classifier.utils.utilities import read_yaml, create_directories, save_json \n",
    "\n",
    "class ConfigureationManager:\n",
    "    def __init__(self, config_file_path = CONFIG_FILE_PATH , params_file_path = PARAMS_FILE_PATH):\n",
    "        self.config= read_yaml(config_file_path)\n",
    "        self.params = read_yaml(params_file_path)\n",
    "        create_directories([self.config.artifacts_root])\n",
    "\n",
    "    def get_evaluation_config(self) -> EvaluationConfig:\n",
    "        evaluation_config = EvaluationConfig(\n",
    "            path_of_model = \"artifacts/training/trained_model.keras\",\n",
    "            training_data =\"artifacts/data_ingestion/Chicken-fecal-images\",\n",
    "            all_params = self.params,\n",
    "            params_image_size = self.params.IMAGE_SIZE,\n",
    "            params_batch_size = self.params.BATCH_SIZE,\n",
    "            params_learning_rate = self.params.LEARNING_RATE\n",
    "        )\n",
    "        return evaluation_config    "
   ]
  },
  {
   "cell_type": "code",
   "execution_count": 37,
   "id": "291d134d",
   "metadata": {},
   "outputs": [],
   "source": [
    "from urllib.parse import urlparse\n",
    "class Evaluation:\n",
    "    def __init__(self, config: EvaluationConfig):\n",
    "        self.config = config\n",
    "    \n",
    "    def _valid_generator(self):\n",
    "\n",
    "        datagenerator_kwargs = dict(\n",
    "            rescale = 1./255,\n",
    "            validation_split = 0.2,  # 20% for validation\n",
    "        )\n",
    "        dataflow_kwargs = dict(\n",
    "            target_size = self.config.params_image_size[:-1],\n",
    "            batch_size = self.config.params_batch_size,\n",
    "            interpolation = \"bilinear\",\n",
    "        )\n",
    "\n",
    "        valid_datagenerator = tf.keras.preprocessing.image.ImageDataGenerator(\n",
    "            **datagenerator_kwargs\n",
    "        )\n",
    "\n",
    "        self.valid_generator = valid_datagenerator.flow_from_directory(\n",
    "            directory = self.config.training_data,\n",
    "            subset = \"validation\",\n",
    "            class_mode = \"sparse\",\n",
    "            shuffle = False,\n",
    "            **dataflow_kwargs\n",
    "        )\n",
    "      \n",
    "    @staticmethod\n",
    "    def load_model(path : Path) -> tf.keras.Model:\n",
    "        return tf.keras.models.load_model(path)\n",
    "    \n",
    "    \n",
    "    def evaluate_model(self):\n",
    "        self.model = self.load_model(self.config.path_of_model)\n",
    "        self.model.compile(\n",
    "            loss='sparse_categorical_crossentropy',\n",
    "            optimizer=tf.keras.optimizers.SGD(learning_rate=self.config.params_learning_rate),\n",
    "            metrics=['accuracy']\n",
    "        )\n",
    "        self._valid_generator()\n",
    "        self.score = self.model.evaluate(\n",
    "            self.valid_generator,\n",
    "        )\n",
    "\n",
    "    def save_score(self):\n",
    "        score = {\n",
    "            \"loss\": self.score[0],\n",
    "            \"accuracy\": self.score[1]\n",
    "        }\n",
    "        save_json(path=Path(\"scores.json\"),data=score)\n",
    "        print(f\"Model evaluation score: {score}\")\n",
    "    "
   ]
  },
  {
   "cell_type": "code",
   "execution_count": 38,
   "id": "c710fab7",
   "metadata": {},
   "outputs": [
    {
     "name": "stdout",
     "output_type": "stream",
     "text": [
      "[2025-08-03 00:52:00,893] INFO: utilities: YAML file config/config.yaml loaded successfully.]\n",
      "[2025-08-03 00:52:00,896] INFO: utilities: YAML file params.yaml loaded successfully.]\n",
      "[2025-08-03 00:52:00,898] INFO: utilities: Directory craeted at artifacts]\n",
      "Found 78 images belonging to 2 classes.\n",
      "\u001b[1m3/3\u001b[0m \u001b[32m━━━━━━━━━━━━━━━━━━━━\u001b[0m\u001b[37m\u001b[0m \u001b[1m11s\u001b[0m 3s/step - accuracy: 0.5000 - loss: 12.3284 \n",
      "[2025-08-03 00:52:12,564] INFO: utilities: Json file saved at scores.json]\n",
      "Model evaluation score: {'loss': 12.328390121459961, 'accuracy': 0.5}\n"
     ]
    }
   ],
   "source": [
    "try : \n",
    "    config = ConfigureationManager()\n",
    "    val_config = config.get_evaluation_config()\n",
    "    evaluation = Evaluation(val_config)\n",
    "    evaluation.evaluate_model()\n",
    "    evaluation.save_score()\n",
    "except Exception as e:\n",
    "    print(f\"Error occurred during evaluation: {e}\")\n",
    "    raise e"
   ]
  }
 ],
 "metadata": {
  "kernelspec": {
   "display_name": ".venv",
   "language": "python",
   "name": "python3"
  },
  "language_info": {
   "codemirror_mode": {
    "name": "ipython",
    "version": 3
   },
   "file_extension": ".py",
   "mimetype": "text/x-python",
   "name": "python",
   "nbconvert_exporter": "python",
   "pygments_lexer": "ipython3",
   "version": "3.11.2"
  }
 },
 "nbformat": 4,
 "nbformat_minor": 5
}
