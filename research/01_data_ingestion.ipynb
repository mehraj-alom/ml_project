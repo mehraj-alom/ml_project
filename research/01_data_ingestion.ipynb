{
 "cells": [
  {
   "cell_type": "code",
   "execution_count": 2,
   "id": "db69b3af",
   "metadata": {},
   "outputs": [],
   "source": [
    "import os"
   ]
  },
  {
   "cell_type": "code",
   "execution_count": 3,
   "id": "e9ce1701",
   "metadata": {},
   "outputs": [
    {
     "name": "stdout",
     "output_type": "stream",
     "text": [
      "/home/mehrajofficial000/venv/ml_project/research\n"
     ]
    }
   ],
   "source": [
    "!pwd"
   ]
  },
  {
   "cell_type": "code",
   "execution_count": 4,
   "id": "a33f58e9",
   "metadata": {},
   "outputs": [],
   "source": [
    "os.chdir(\"../\")"
   ]
  },
  {
   "cell_type": "code",
   "execution_count": 5,
   "id": "6ccf30a5",
   "metadata": {},
   "outputs": [
    {
     "name": "stdout",
     "output_type": "stream",
     "text": [
      "/home/mehrajofficial000/venv/ml_project\n"
     ]
    }
   ],
   "source": [
    "!pwd"
   ]
  },
  {
   "cell_type": "markdown",
   "id": "8fa8d229",
   "metadata": {},
   "source": [
    "**Entity is the return type of the function**\n"
   ]
  },
  {
   "cell_type": "code",
   "execution_count": 6,
   "id": "d87a379a",
   "metadata": {},
   "outputs": [],
   "source": [
    "from dataclasses import dataclass\n",
    "from pathlib import Path\n",
    "\n",
    "\n",
    "@dataclass(frozen=True)\n",
    "class DataIngestionConfig:\n",
    "    root_dir: Path\n",
    "    source_URL: str\n",
    "    local_data_file: Path\n",
    "    unzip_dir: Path\n"
   ]
  },
  {
   "cell_type": "code",
   "execution_count": 7,
   "id": "c3448829",
   "metadata": {},
   "outputs": [],
   "source": [
    "from Classifier.constants import *\n",
    "from Classifier.utils.utilities import read_yaml , create_directories"
   ]
  },
  {
   "cell_type": "code",
   "execution_count": 8,
   "id": "aef7d368",
   "metadata": {},
   "outputs": [],
   "source": [
    "#confgureation.py\n",
    "class ConfigurationManager:\n",
    "    def __init__(self,config_file_path=CONFIG_FILE_PATH,params_file_path=PARAMS_FILE_PATH):\n",
    "            self.config = read_yaml(config_file_path)\n",
    "            self.params = read_yaml(params_file_path)\n",
    "            create_directories([self.config.artifacts_root])\n",
    "\n",
    "\n",
    "    def get_data_ingestion_config(self) -> DataIngestionConfig:\n",
    "        config = self.config.data_ingestion\n",
    "        create_directories([config.root_dir])\n",
    "        data_ingestion_config = DataIngestionConfig(\n",
    "            root_dir=config.root_dir,\n",
    "            source_URL=config.source_URL,\n",
    "            local_data_file=config.local_data_file,\n",
    "            unzip_dir=config.unzip_dir\n",
    "        )\n",
    "        return data_ingestion_config\n",
    "\n",
    "    "
   ]
  },
  {
   "cell_type": "code",
   "execution_count": null,
   "id": "9b5e76c2",
   "metadata": {},
   "outputs": [],
   "source": [
    "#Components\n",
    "\n",
    "import os \n",
    "from urllib import request \n",
    "from zipfile import ZipFile\n",
    "from Classifier import logger\n",
    "from Classifier.utils.utilities import get_size\n",
    "class DataIngestion:\n",
    "    def __init__(self,config:DataIngestionConfig):\n",
    "        self.config = config\n",
    "\n",
    "    def download_file(self):\n",
    "        if not os.path.exists(self.config.local_data_file):\n",
    "            logger.info(f\"Downloading file from {self.config.source_URL} to {self.config.local_data_file}\")\n",
    "            filename , headers = request.urlretrieve(\n",
    "                url = self.config.source_URL, \n",
    "                filename = self.config.local_data_file)\n",
    "            logger.info(f\"File downloaded: {filename}\")\n",
    "            \n",
    "        else:\n",
    "            logger.info(f\"File already exists: {self.config.local_data_file}\")   \n",
    "\n",
    "    def extract_zip_file(self):\n",
    "        unzip_path = self.config.unzip_dir\n",
    "        os.makedirs(unzip_path, exist_ok=True)\n",
    "        with ZipFile(self.config.local_data_file, 'r') as zip_ref:\n",
    "            logger.info(f\"Extracting zip file to {unzip_path}\")\n",
    "            zip_ref.extractall(unzip_path)\n",
    "            logger.info(f\"Zip file extracted to {unzip_path}\")\n",
    "            logger.info(f\"Size of the extracted file: {get_size(unzip_path)}\")"
   ]
  },
  {
   "cell_type": "code",
   "execution_count": 10,
   "id": "0510ea4f",
   "metadata": {},
   "outputs": [
    {
     "name": "stdout",
     "output_type": "stream",
     "text": [
      "/home/mehrajofficial000/venv/ml_project\n"
     ]
    }
   ],
   "source": [
    "!pwd"
   ]
  },
  {
   "cell_type": "code",
   "execution_count": 11,
   "id": "a6e0ba7f",
   "metadata": {},
   "outputs": [
    {
     "name": "stdout",
     "output_type": "stream",
     "text": [
      "/home/mehrajofficial000/venv/ml_project\n"
     ]
    }
   ],
   "source": [
    "%cd /home/mehrajofficial000/venv/ml_project\n"
   ]
  },
  {
   "cell_type": "code",
   "execution_count": 12,
   "id": "ba054a18",
   "metadata": {},
   "outputs": [
    {
     "name": "stdout",
     "output_type": "stream",
     "text": [
      "/home/mehrajofficial000/venv/ml_project\n"
     ]
    }
   ],
   "source": [
    "!pwd\n"
   ]
  },
  {
   "cell_type": "markdown",
   "id": "cb32dcfb",
   "metadata": {},
   "source": []
  },
  {
   "cell_type": "code",
   "execution_count": null,
   "id": "a9955576",
   "metadata": {},
   "outputs": [
    {
     "name": "stdout",
     "output_type": "stream",
     "text": [
      "[2025-08-01 18:00:14,706] INFO: utilities: YAML file config/config.yaml loaded successfully.]\n",
      "[2025-08-01 18:00:14,710] INFO: utilities: YAML file params.yaml loaded successfully.]\n",
      "[2025-08-01 18:00:14,713] INFO: utilities: Directory craeted at artifacts]\n",
      "[2025-08-01 18:00:14,715] INFO: utilities: Directory craeted at artifacts/data_ingestion]\n",
      "[2025-08-01 18:00:14,717] INFO: 2945301590: File already exists: artifacts/data_ingestion/local_data.zip]\n",
      "[2025-08-01 18:00:14,721] INFO: 2945301590: Extracting zip file to artifacts/data_ingestion]\n",
      "[2025-08-01 18:00:14,892] INFO: 2945301590: Zip file extracted to artifacts/data_ingestion]\n",
      "[2025-08-01 18:00:14,893] ERROR: 1365488876: Argument path of type <class 'str'> to <function get_size at 0x7f0b483d1300> does not match annotation type <class 'pathlib.Path'>]\n",
      "Traceback (most recent call last):\n",
      "  File \"/tmp/ipykernel_1651/1365488876.py\", line 6, in <module>\n",
      "    data_ingestion.extract_zip_file()\n",
      "  File \"/tmp/ipykernel_1651/2945301590.py\", line 28, in extract_zip_file\n",
      "    logger.info(f\"Size of the extracted file: {get_size(unzip_path)}\")\n",
      "                                               ^^^^^^^^^^^^^^^^^^^^\n",
      "  File \"/home/mehrajofficial000/venv/ml_project/.venv/lib/python3.11/site-packages/ensure/main.py\", line 870, in __call__\n",
      "    raise EnsureError(msg.format(arg=arg, f=self.f, t=templ, valt=type(value)))\n",
      "ensure.main.EnsureError: Argument path of type <class 'str'> to <function get_size at 0x7f0b483d1300> does not match annotation type <class 'pathlib.Path'>\n"
     ]
    }
   ],
   "source": [
    "\n",
    "\n",
    "try:\n",
    "    config = ConfigurationManager()\n",
    "    data_ingestion_config = config.get_data_ingestion_config()\n",
    "    data_ingestion = DataIngestion(config=data_ingestion_config)\n",
    "    data_ingestion.download_file()\n",
    "    data_ingestion.extract_zip_file()\n",
    "except Exception as e:\n",
    "    logger.exception(e)"
   ]
  },
  {
   "cell_type": "code",
   "execution_count": null,
   "id": "df175c02",
   "metadata": {},
   "outputs": [],
   "source": [
    "\n"
   ]
  }
 ],
 "metadata": {
  "kernelspec": {
   "display_name": ".venv",
   "language": "python",
   "name": "python3"
  },
  "language_info": {
   "codemirror_mode": {
    "name": "ipython",
    "version": 3
   },
   "file_extension": ".py",
   "mimetype": "text/x-python",
   "name": "python",
   "nbconvert_exporter": "python",
   "pygments_lexer": "ipython3",
   "version": "3.11.2"
  }
 },
 "nbformat": 4,
 "nbformat_minor": 5
}
