{
 "cells": [
  {
   "cell_type": "code",
   "execution_count": 174,
   "id": "e58b1334",
   "metadata": {},
   "outputs": [
    {
     "name": "stdout",
     "output_type": "stream",
     "text": [
      "/home/mehrajofficial000/venv/ml_project\n"
     ]
    }
   ],
   "source": [
    "import os \n",
    "!pwd"
   ]
  },
  {
   "cell_type": "code",
   "execution_count": 175,
   "id": "bac187a5",
   "metadata": {},
   "outputs": [],
   "source": [
    "#os.chdir(\"../\")"
   ]
  },
  {
   "cell_type": "code",
   "execution_count": 176,
   "id": "8475cc2f",
   "metadata": {},
   "outputs": [
    {
     "name": "stdout",
     "output_type": "stream",
     "text": [
      "/home/mehrajofficial000/venv/ml_project\n"
     ]
    }
   ],
   "source": [
    "!pwd"
   ]
  },
  {
   "cell_type": "code",
   "execution_count": 177,
   "id": "064dbe83",
   "metadata": {},
   "outputs": [],
   "source": [
    "#entity \n",
    "from dataclasses import dataclass\n",
    "from pathlib import Path\n",
    "\n",
    "@dataclass(frozen=True)\n",
    "class TrainingConfig: \n",
    "    root_dir: Path\n",
    "    trained_model_path : Path\n",
    "    updated_base_model_path : Path\n",
    "    training_data : Path\n",
    "    params_epochs : int\n",
    "    params_batch_size : int\n",
    "    params_is_augmentation : bool\n",
    "    params_image_size : list\n",
    "\n",
    "\n",
    "@dataclass(frozen=True)\n",
    "class PrepareCallbacksConfig:\n",
    "    root_dir: Path\n",
    "    tensorboard_root_log_dir: Path\n",
    "    checkpoint_model_path: Path"
   ]
  },
  {
   "cell_type": "code",
   "execution_count": 178,
   "id": "c520ad0e",
   "metadata": {},
   "outputs": [],
   "source": [
    "#Configurations\n",
    "\n",
    "from Classifier.constants import *\n",
    "from Classifier.utils.utilities import read_yaml, create_directories\n",
    "import tensorflow as tf\n",
    "from pathlib import Path\n",
    "\n",
    "class ConfigurationManager:\n",
    "    def __init__(self, config_filepath = CONFIG_FILE_PATH, params_filepath = PARAMS_FILE_PATH):\n",
    "        self.config = read_yaml(config_filepath)\n",
    "        self.params = read_yaml(params_filepath)\n",
    "\n",
    "        create_directories([self.config.training.root_dir])\n",
    "\n",
    "\n",
    "    def get_prepare_callbacks_config(self) -> PrepareCallbacksConfig:\n",
    "        config = self.config.prepare_callbacks\n",
    "        model_checkpoint_dir = os.path.dirname(config.checkpoint_model_path)\n",
    "        create_directories([\n",
    "            Path(model_checkpoint_dir),\n",
    "            Path(config.tensorboard_root_log_dir)\n",
    "            ])\n",
    "        prepare_callbacks_config = PrepareCallbacksConfig(\n",
    "            root_dir=Path(config.root_dir),\n",
    "            tensorboard_root_log_dir=Path(config.tensorboard_root_log_dir),\n",
    "            checkpoint_model_path=Path(config.checkpoint_model_path)\n",
    "        )\n",
    "        return prepare_callbacks_config\n",
    "\n",
    "\n",
    "    def get_training_config(self) -> TrainingConfig:\n",
    "        config = self.config.training\n",
    "        prepare_base_model_config = self.config.prepared_base_model\n",
    "\n",
    "        params = self.params\n",
    "        training_data = os.path.join(self.config.data_ingestion.unzip_dir, \"Chicken-fecal-images\")\n",
    "        create_directories([Path(config.root_dir)])\n",
    "        \n",
    "\n",
    "\n",
    "        training_config = TrainingConfig(\n",
    "            root_dir=Path(config.root_dir),\n",
    "            trained_model_path=Path(config.trained_model_path),\n",
    "            updated_base_model_path=Path(prepare_base_model_config.updated_base_model_path),\n",
    "            training_data=Path(training_data),\n",
    "            params_epochs=self.params.EPOCHS,\n",
    "            params_batch_size=self.params.BATCH_SIZE,\n",
    "            params_is_augmentation=self.params.AUGMENTATION,\n",
    "            params_image_size=self.params.IMAGE_SIZE\n",
    "        )\n",
    "        return training_config\n",
    "        "
   ]
  },
  {
   "cell_type": "code",
   "execution_count": 179,
   "id": "eb2c52bb",
   "metadata": {},
   "outputs": [],
   "source": [
    "#components\n",
    "import os\n",
    "import urllib.request as request\n",
    "from zipfile import ZipFile\n",
    "import tensorflow as tf \n",
    "import time \n",
    "import logging\n",
    "\n",
    "class PrepareCallbacks:\n",
    "    def __init__(self, config: PrepareCallbacksConfig):\n",
    "        self.config = config\n",
    "\n",
    "    @property\n",
    "    def _create_tb_callbacks(self):\n",
    "        timestamp = time.strftime(\"%Y-%m-%d-%H-%M-%S\")\n",
    "        tb_running_log_dir = os.path.join(\n",
    "            self.config.tensorboard_root_log_dir, \n",
    "            f\"tb_logs_at-{timestamp}\"\n",
    "        )\n",
    "        logging.info(f\"Tensorboard log dir: {tb_running_log_dir}\")\n",
    "        return tf.keras.callbacks.TensorBoard(\n",
    "            log_dir=tb_running_log_dir,\n",
    "            histogram_freq=1, #Problem might occur \n",
    "            write_graph=True,  \n",
    "            write_images=True,\n",
    "            update_freq=\"epoch\",\n",
    "        )\n",
    "    \n",
    "    @property\n",
    "    def _create_checkpoint_callback(self):\n",
    "        logging.info(f\"Checkpoint dir: --->>>>> creating checkpoint dir ----->\")\n",
    "        return tf.keras.callbacks.ModelCheckpoint(\n",
    "            filepath = self.config.checkpoint_model_path,\n",
    "            monitor = \"val_accuracy\", #problems might occur \n",
    "            save_best_only = True,\n",
    "        )\n",
    "    \n",
    "    def get_callbacks(self):\n",
    "        logging.info(\"Preparing callbacks\")\n",
    "        return [\n",
    "            self._create_tb_callbacks,\n",
    "            self._create_checkpoint_callback\n",
    "        ]\n",
    "    "
   ]
  },
  {
   "cell_type": "code",
   "execution_count": 180,
   "id": "91dece24",
   "metadata": {},
   "outputs": [],
   "source": [
    "import os\n",
    "import urllib.request as request\n",
    "from zipfile import ZipFile\n",
    "import tensorflow as tf \n",
    "import time \n",
    "import logging"
   ]
  },
  {
   "cell_type": "code",
   "execution_count": 181,
   "id": "b14c748d",
   "metadata": {},
   "outputs": [],
   "source": [
    "class Training:\n",
    "    def __init__(self, config: TrainingConfig):\n",
    "        self.config = config\n",
    "        \n",
    "    def get_base_model(self):\n",
    "        self.model = tf.keras.models.load_model(self.config.updated_base_model_path)\n",
    "   \n",
    "    # ✅ Recompile the model with a new optimizer instance\n",
    "        self.model.compile(\n",
    "            loss='sparse_categorical_crossentropy',\n",
    "            optimizer=tf.keras.optimizers.SGD(),\n",
    "             metrics=['accuracy']\n",
    "         )\n",
    "\n",
    "        logging.info(f\"Base model loaded and recompiled from {self.config.updated_base_model_path}\")\n",
    "\n",
    "    def train_valid_generator(self):\n",
    "\n",
    "        datagenerator_kwargs = dict(\n",
    "            rescale = 1./255,\n",
    "            validation_split = 0.2,  # 20% for validation\n",
    "        )\n",
    "\n",
    "        dataflow_kwargs = dict(\n",
    "            target_size = self.config.params_image_size[:-1],\n",
    "            batch_size = self.config.params_batch_size,\n",
    "            interpolation = \"bilinear\",\n",
    "        )\n",
    "\n",
    "        valid_datagenerator = tf.keras.preprocessing.image.ImageDataGenerator(\n",
    "            **datagenerator_kwargs\n",
    "        )\n",
    "\n",
    "        self.valid_generator = valid_datagenerator.flow_from_directory(\n",
    "            directory = self.config.training_data,\n",
    "            subset = \"validation\",\n",
    "            class_mode = \"sparse\",\n",
    "            shuffle = False,\n",
    "            **dataflow_kwargs\n",
    "        )\n",
    "\n",
    "        if self.config.params_is_augmentation:\n",
    "            train_datagenerator = tf.keras.preprocessing.image.ImageDataGenerator(\n",
    "                rotation_range = 40,\n",
    "                width_shift_range = 0.2,\n",
    "                height_shift_range = 0.2,\n",
    "                shear_range = 0.2,\n",
    "                zoom_range = 0.2,\n",
    "                horizontal_flip = True,\n",
    "                fill_mode = \"nearest\",\n",
    "                **datagenerator_kwargs\n",
    "            )\n",
    "        else:\n",
    "            train_datagenerator = valid_datagenerator\n",
    "        \n",
    "\n",
    "        self.train_generator = train_datagenerator.flow_from_directory(\n",
    "            directory = self.config.training_data,\n",
    "            subset = \"training\",\n",
    "            class_mode = \"sparse\",\n",
    "            shuffle = True,\n",
    "            **dataflow_kwargs\n",
    "        )\n",
    "\n",
    "    @staticmethod\n",
    "    def save_model(path :Path, model: tf.keras.Model):\n",
    "        logging.info(f\"Saving model at {path}\")\n",
    "        model.save(path)\n",
    "    \n",
    "    def train(self, callback_List :list):\n",
    "        logging.info(\"Training started\")\n",
    "        self.steps_per_epoch = self.train_generator.samples // self.config.params_batch_size\n",
    "        self.validation_steps = self.valid_generator.samples // self.config.params_batch_size\n",
    "        \n",
    "        self.model.fit(\n",
    "            self.train_generator,\n",
    "            steps_per_epoch = self.steps_per_epoch,\n",
    "            validation_data = self.valid_generator,\n",
    "            validation_steps = self.validation_steps,\n",
    "            epochs = self.config.params_epochs,\n",
    "            callbacks = callback_List\n",
    "        )\n",
    "\n",
    "        self.save_model(\n",
    "            path = self.config.trained_model_path,\n",
    "            model = self.model\n",
    "        )"
   ]
  },
  {
   "cell_type": "code",
   "execution_count": null,
   "id": "3deb9412",
   "metadata": {},
   "outputs": [],
   "source": [
    "import tensorflow as tf\n",
    "tf.config.run_functions_eagerly(True)"
   ]
  },
  {
   "cell_type": "code",
   "execution_count": null,
   "id": "b5b07833",
   "metadata": {},
   "outputs": [
    {
     "name": "stdout",
     "output_type": "stream",
     "text": [
      "[2025-08-02 12:56:48,930] INFO: utilities: YAML file config/config.yaml loaded successfully.]\n"
     ]
    },
    {
     "name": "stdout",
     "output_type": "stream",
     "text": [
      "[2025-08-02 12:56:48,981] INFO: utilities: YAML file params.yaml loaded successfully.]\n",
      "[2025-08-02 12:56:48,991] INFO: utilities: Directory craeted at artifacts/training]\n",
      "[2025-08-02 12:56:48,993] INFO: utilities: Directory craeted at artifacts/prepare_callbacks/checkpoint_dir]\n",
      "[2025-08-02 12:56:48,994] INFO: utilities: Directory craeted at artifacts/prepare_callbacks/tensorboard_log_dir]\n",
      "[2025-08-02 12:56:48,996] INFO: 3489171288: Preparing callbacks]\n",
      "[2025-08-02 12:56:48,997] INFO: 3489171288: Tensorboard log dir: artifacts/prepare_callbacks/tensorboard_log_dir/tb_logs_at-2025-08-02-12-56-48]\n",
      "[2025-08-02 12:56:48,998] INFO: 3489171288: Checkpoint dir: --->>>>> creating checkpoint dir ----->]\n",
      "[2025-08-02 12:56:49,000] INFO: 842896744: Callbacks: [<keras.src.callbacks.tensorboard.TensorBoard object at 0x7f28286c6210>, <keras.src.callbacks.model_checkpoint.ModelCheckpoint object at 0x7f2904ab68d0>]]\n",
      "[2025-08-02 12:56:49,001] INFO: utilities: Directory craeted at artifacts/training]\n",
      "[2025-08-02 12:57:01,234] WARNING: saving_utils: Compiled the loaded model, but the compiled metrics have yet to be built. `model.compile_metrics` will be empty until you train or evaluate the model.]\n",
      "[2025-08-02 12:57:01,654] INFO: 363921386: Base model loaded and recompiled from artifacts/prepared_base_model/updated_base_model.h5]\n",
      "Found 78 images belonging to 2 classes.\n",
      "Found 312 images belonging to 2 classes.\n",
      "[2025-08-02 12:57:01,853] INFO: 363921386: Training started]\n"
     ]
    },
    {
     "name": "stderr",
     "output_type": "stream",
     "text": [
      "/home/mehrajofficial000/venv/ml_project/.venv/lib/python3.11/site-packages/keras/src/trainers/data_adapters/py_dataset_adapter.py:121: UserWarning: Your `PyDataset` class should call `super().__init__(**kwargs)` in its constructor. `**kwargs` can include `workers`, `use_multiprocessing`, `max_queue_size`. Do not pass these arguments to `fit()`, as they will be ignored.\n",
      "  self._warn_if_super_not_called()\n",
      "/home/mehrajofficial000/venv/ml_project/.venv/lib/python3.11/site-packages/tensorflow/python/data/ops/structured_function.py:258: UserWarning: Even though the `tf.config.experimental_run_functions_eagerly` option is set, this option does not apply to tf.data functions. To force eager execution of tf.data functions, please use `tf.data.experimental.enable_debug_mode()`.\n",
      "  warnings.warn(\n"
     ]
    },
    {
     "name": "stdout",
     "output_type": "stream",
     "text": [
      "\u001b[1m2/9\u001b[0m \u001b[32m━━━━\u001b[0m\u001b[37m━━━━━━━━━━━━━━━━\u001b[0m \u001b[1m3:55\u001b[0m 34s/step - accuracy: 0.4844 - loss: 0.6689"
     ]
    }
   ],
   "source": [
    "#pipeline\n",
    "try :\n",
    "    config = ConfigurationManager()\n",
    "    prepare_callbacks_config = config.get_prepare_callbacks_config()\n",
    "    prepare_callbacks = PrepareCallbacks(config=prepare_callbacks_config)\n",
    "    callbacks = prepare_callbacks.get_callbacks()\n",
    "    logging.info(f\"Callbacks: {callbacks}\")\n",
    "\n",
    "    training_config = config.get_training_config()\n",
    "    training = Training(config=training_config)\n",
    "    training.get_base_model()\n",
    "    training.train_valid_generator()\n",
    "    training.train(\n",
    "        callback_List=callbacks\n",
    "    )\n",
    "except Exception as e:\n",
    "    logging.error(f\"Error in loading configuration_training: {e}\")\n",
    "    raise e"
   ]
  }
 ],
 "metadata": {
  "kernelspec": {
   "display_name": ".venv",
   "language": "python",
   "name": "python3"
  },
  "language_info": {
   "codemirror_mode": {
    "name": "ipython",
    "version": 3
   },
   "file_extension": ".py",
   "mimetype": "text/x-python",
   "name": "python",
   "nbconvert_exporter": "python",
   "pygments_lexer": "ipython3",
   "version": "3.11.2"
  }
 },
 "nbformat": 4,
 "nbformat_minor": 5
}
