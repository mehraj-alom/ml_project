{
 "cells": [
  {
   "cell_type": "code",
   "execution_count": 153,
   "id": "e58b1334",
   "metadata": {},
   "outputs": [
    {
     "name": "stdout",
     "output_type": "stream",
     "text": [
      "/home/mehrajofficial000/venv/ml_project\n"
     ]
    }
   ],
   "source": [
    "import os \n",
    "!pwd"
   ]
  },
  {
   "cell_type": "code",
   "execution_count": 154,
   "id": "bac187a5",
   "metadata": {},
   "outputs": [],
   "source": [
    "#os.chdir(\"../\")"
   ]
  },
  {
   "cell_type": "code",
   "execution_count": 155,
   "id": "8475cc2f",
   "metadata": {},
   "outputs": [
    {
     "name": "stdout",
     "output_type": "stream",
     "text": [
      "/home/mehrajofficial000/venv/ml_project\n"
     ]
    }
   ],
   "source": [
    "!pwd"
   ]
  },
  {
   "cell_type": "code",
   "execution_count": 156,
   "id": "064dbe83",
   "metadata": {},
   "outputs": [],
   "source": [
    "#entity \n",
    "from dataclasses import dataclass\n",
    "from pathlib import Path\n",
    "\n",
    "@dataclass(frozen=True)\n",
    "class TrainingConfig: \n",
    "    root_dir: Path\n",
    "    trained_model_path : Path\n",
    "    updated_base_model_path : Path\n",
    "    training_data : Path\n",
    "    params_epochs : int\n",
    "    params_batch_size : int\n",
    "    params_is_augmentation : bool\n",
    "    params_image_size : list\n",
    "\n",
    "\n",
    "@dataclass(frozen=True)\n",
    "class PrepareCallbacksConfig:\n",
    "    root_dir: Path\n",
    "    tensorboard_root_log_dir: Path\n",
    "    checkpoint_model_path: Path"
   ]
  },
  {
   "cell_type": "code",
   "execution_count": 157,
   "id": "c520ad0e",
   "metadata": {},
   "outputs": [
    {
     "ename": "SyntaxError",
     "evalue": "invalid syntax. Perhaps you forgot a comma? (1686962850.py, line 49)",
     "output_type": "error",
     "traceback": [
      "  \u001b[36mCell\u001b[39m\u001b[36m \u001b[39m\u001b[32mIn[157]\u001b[39m\u001b[32m, line 49\u001b[39m\n\u001b[31m    \u001b[39m\u001b[31mparams_image_size=self.params.IMAGE_SIZE\u001b[39m\n                      ^\n\u001b[31mSyntaxError\u001b[39m\u001b[31m:\u001b[39m invalid syntax. Perhaps you forgot a comma?\n"
     ]
    }
   ],
   "source": [
    "#Configurations\n",
    "\n",
    "from Classifier.constants import *\n",
    "from Classifier.utils.utilities import read_yaml, create_directories\n",
    "import tensorflow as tf\n",
    "from pathlib import Path\n",
    "\n",
    "class ConfigurationManager:\n",
    "    def __init__(self, config_filepath = CONFIG_FILE_PATH, params_filepath = PARAMS_FILE_PATH):\n",
    "        self.config = read_yaml(config_filepath)\n",
    "        self.params = read_yaml(params_filepath)\n",
    "\n",
    "        create_directories([self.config.training.root_dir])\n",
    "\n",
    "\n",
    "    def get_prepare_callbacks_config(self) -> PrepareCallbacksConfig:\n",
    "        config = self.config.prepare_callbacks\n",
    "        model_checkpoint_dir = os.path.dirname(config.checkpoint_model_path)\n",
    "        create_directories([\n",
    "            Path(model_checkpoint_dir),\n",
    "            Path(config.tensorboard_root_log_dir)\n",
    "            ])\n",
    "        prepare_callbacks_config = PrepareCallbacksConfig(\n",
    "            root_dir=Path(config.root_dir),\n",
    "            tensorboard_root_log_dir=Path(config.tensorboard_root_log_dir),\n",
    "            checkpoint_model_path=Path(config.checkpoint_model_path)\n",
    "        )\n",
    "        return prepare_callbacks_config\n",
    "\n",
    "\n",
    "    def get_training_config(self) -> TrainingConfig:\n",
    "        config = self.config.training\n",
    "        prepare_base_model_config = self.config.prepared_base_model\n",
    "\n",
    "        params = self.params\n",
    "        training_data = os.path.join(self.config.data_ingestion.unzip_dir, \"Chicken-fecal-images\")\n",
    "        create_directories([Path(config.root_dir)])\n",
    "        \n",
    "\n",
    "\n",
    "        training_config = TrainingConfig(\n",
    "            root_dir=Path(config.root_dir),\n",
    "            trained_model_path=Path(config.trained_model_path),\n",
    "            updated_base_model_path=Path(prepare_base_model_config.updated_base_model_path),\n",
    "            training_data=Path(training_data),\n",
    "            params_epochs=self.params.EPOCHS,\n",
    "            params_batch_size=self.params.BATCH_SIZE,\n",
    "            params_is_augmentation=self.params.AUGMENTATION,\n",
    "            params_image_size=self.params.IMAGE_SIZE\n",
    "            params_learning_rate = self.params.LEARNING_RATE\n",
    "        )\n",
    "        return training_config\n",
    "        "
   ]
  },
  {
   "cell_type": "code",
   "execution_count": null,
   "id": "eb2c52bb",
   "metadata": {},
   "outputs": [],
   "source": [
    "#components\n",
    "import os\n",
    "import urllib.request as request\n",
    "from zipfile import ZipFile\n",
    "import tensorflow as tf \n",
    "import time \n",
    "import logging\n",
    "\n",
    "class PrepareCallbacks:\n",
    "    def __init__(self, config: PrepareCallbacksConfig):\n",
    "        self.config = config\n",
    "\n",
    "    @property\n",
    "    def _create_tb_callbacks(self):\n",
    "        timestamp = time.strftime(\"%Y-%m-%d-%H-%M-%S\")\n",
    "        tb_running_log_dir = os.path.join(\n",
    "            self.config.tensorboard_root_log_dir, \n",
    "            f\"tb_logs_at-{timestamp}\"\n",
    "        )\n",
    "        logging.info(f\"Tensorboard log dir: {tb_running_log_dir}\")\n",
    "        return tf.keras.callbacks.TensorBoard(\n",
    "            log_dir=tb_running_log_dir,\n",
    "            histogram_freq=1, #Problem might occur \n",
    "            write_graph=True,  \n",
    "            write_images=True,\n",
    "            update_freq=\"epoch\",\n",
    "        )\n",
    "    \n",
    "    @property\n",
    "    def _create_checkpoint_callback(self):\n",
    "        logging.info(f\"Checkpoint dir: --->>>>> creating checkpoint dir ----->\")\n",
    "        return tf.keras.callbacks.ModelCheckpoint(\n",
    "            filepath = self.config.checkpoint_model_path,\n",
    "            monitor = \"val_accuracy\", #problems might occur \n",
    "            save_best_only = True,\n",
    "        )\n",
    "    \n",
    "    def get_callbacks(self):\n",
    "        logging.info(\"Preparing callbacks\")\n",
    "        return [\n",
    "            self._create_tb_callbacks,\n",
    "            self._create_checkpoint_callback\n",
    "        ]\n",
    "    "
   ]
  },
  {
   "cell_type": "code",
   "execution_count": null,
   "id": "91dece24",
   "metadata": {},
   "outputs": [],
   "source": [
    "import os\n",
    "import urllib.request as request\n",
    "from zipfile import ZipFile\n",
    "import tensorflow as tf \n",
    "import time \n",
    "import logging"
   ]
  },
  {
   "cell_type": "code",
   "execution_count": null,
   "id": "b14c748d",
   "metadata": {},
   "outputs": [
    {
     "ename": "IndentationError",
     "evalue": "expected an indented block after function definition on line 5 (2037242585.py, line 6)",
     "output_type": "error",
     "traceback": [
      "  \u001b[36mCell\u001b[39m\u001b[36m \u001b[39m\u001b[32mIn[147]\u001b[39m\u001b[32m, line 6\u001b[39m\n\u001b[31m    \u001b[39m\u001b[31mself.model = tf.keras.models.load_model(self.config.updated_base_model_path)\u001b[39m\n    ^\n\u001b[31mIndentationError\u001b[39m\u001b[31m:\u001b[39m expected an indented block after function definition on line 5\n"
     ]
    }
   ],
   "source": [
    "class Training:\n",
    "    def __init__(self, config: TrainingConfig):\n",
    "        self.config = config\n",
    "        \n",
    "    def get_base_model(self):\n",
    "    self.model = tf.keras.models.load_model(self.config.updated_base_model_path)\n",
    "\n",
    "    # ✅ Recompile the model with a new optimizer instance\n",
    "    self.model.compile(\n",
    "        loss='sparse_categorical_crossentropy',\n",
    "        optimizer=tf.keras.optimizers.SGD(),\n",
    "        metrics=['accuracy']\n",
    "    )\n",
    "\n",
    "    logging.info(f\"Base model loaded and recompiled from {self.config.updated_base_model_path}\")\n",
    "\n",
    "    def train_valid_generator(self):\n",
    "\n",
    "        datagenerator_kwargs = dict(\n",
    "            rescale = 1./255,\n",
    "            validation_split = 0.2,  # 20% for validation\n",
    "        )\n",
    "\n",
    "        dataflow_kwargs = dict(\n",
    "            target_size = self.config.params_image_size[:-1],\n",
    "            batch_size = self.config.params_batch_size,\n",
    "            interpolation = \"bilinear\",\n",
    "        )\n",
    "\n",
    "        valid_datagenerator = tf.keras.preprocessing.image.ImageDataGenerator(\n",
    "            **datagenerator_kwargs\n",
    "        )\n",
    "\n",
    "        self.valid_generator = valid_datagenerator.flow_from_directory(\n",
    "            directory = self.config.training_data,\n",
    "            subset = \"validation\",\n",
    "            class_mode = \"sparse\",\n",
    "            shuffle = False,\n",
    "            **dataflow_kwargs\n",
    "        )\n",
    "\n",
    "        if self.config.params_is_augmentation:\n",
    "            train_datagenerator = tf.keras.preprocessing.image.ImageDataGenerator(\n",
    "                rotation_range = 40,\n",
    "                width_shift_range = 0.2,\n",
    "                height_shift_range = 0.2,\n",
    "                shear_range = 0.2,\n",
    "                zoom_range = 0.2,\n",
    "                horizontal_flip = True,\n",
    "                fill_mode = \"nearest\",\n",
    "                **datagenerator_kwargs\n",
    "            )\n",
    "        else:\n",
    "            train_datagenerator = valid_datagenerator\n",
    "        \n",
    "\n",
    "        self.train_generator = train_datagenerator.flow_from_directory(\n",
    "            directory = self.config.training_data,\n",
    "            subset = \"training\",\n",
    "            class_mode = \"sparse\",\n",
    "            shuffle = True,\n",
    "            **dataflow_kwargs\n",
    "        )\n",
    "\n",
    "    @staticmethod\n",
    "    def save_model(path :Path, model: tf.keras.Model):\n",
    "        logging.info(f\"Saving model at {path}\")\n",
    "        model.save(path)\n",
    "    \n",
    "    def train(self, callback_List :list):\n",
    "        logging.info(\"Training started\")\n",
    "        self.steps_per_epoch = self.train_generator.samples // self.config.params_batch_size\n",
    "        self.validation_steps = self.valid_generator.samples // self.config.params_batch_size\n",
    "        \n",
    "        self.model.fit(\n",
    "            self.train_generator,\n",
    "            steps_per_epoch = self.steps_per_epoch,\n",
    "            validation_data = self.valid_generator,\n",
    "            validation_steps = self.validation_steps,\n",
    "            epochs = self.config.params_epochs,\n",
    "            callbacks = callback_List\n",
    "        )\n",
    "\n",
    "        self.save_model(\n",
    "            path = self.config.trained_model_path,\n",
    "            model = self.model\n",
    "        )"
   ]
  },
  {
   "cell_type": "code",
   "execution_count": null,
   "id": "3deb9412",
   "metadata": {},
   "outputs": [],
   "source": [
    "import tensorflow as tf\n",
    "tf.config.run_functions_eagerly(True)\n"
   ]
  },
  {
   "cell_type": "code",
   "execution_count": null,
   "id": "b5b07833",
   "metadata": {},
   "outputs": [
    {
     "name": "stdout",
     "output_type": "stream",
     "text": [
      "[2025-08-02 12:51:39,352] INFO: utilities: YAML file config/config.yaml loaded successfully.]\n",
      "[2025-08-02 12:51:39,356] INFO: utilities: YAML file params.yaml loaded successfully.]\n",
      "[2025-08-02 12:51:39,358] INFO: utilities: Directory craeted at artifacts/training]\n",
      "[2025-08-02 12:51:39,360] INFO: utilities: Directory craeted at artifacts/prepare_callbacks/checkpoint_dir]\n",
      "[2025-08-02 12:51:39,361] INFO: utilities: Directory craeted at artifacts/prepare_callbacks/tensorboard_log_dir]\n",
      "[2025-08-02 12:51:39,362] INFO: 3489171288: Preparing callbacks]\n",
      "[2025-08-02 12:51:39,365] INFO: 3489171288: Tensorboard log dir: artifacts/prepare_callbacks/tensorboard_log_dir/tb_logs_at-2025-08-02-12-51-39]\n",
      "[2025-08-02 12:51:39,368] INFO: 3489171288: Checkpoint dir: --->>>>> creating checkpoint dir ----->]\n",
      "[2025-08-02 12:51:39,370] INFO: 842896744: Callbacks: [<keras.src.callbacks.tensorboard.TensorBoard object at 0x7f27dc146b90>, <keras.src.callbacks.model_checkpoint.ModelCheckpoint object at 0x7f282824a990>]]\n",
      "[2025-08-02 12:51:39,372] INFO: utilities: Directory craeted at artifacts/training]\n"
     ]
    },
    {
     "name": "stdout",
     "output_type": "stream",
     "text": [
      "[2025-08-02 12:51:41,465] WARNING: saving_utils: Compiled the loaded model, but the compiled metrics have yet to be built. `model.compile_metrics` will be empty until you train or evaluate the model.]\n",
      "[2025-08-02 12:51:41,523] ERROR: 842896744: Error in loading configuration_training: 'TrainingConfig' object has no attribute 'params_learning_rate']\n"
     ]
    },
    {
     "ename": "AttributeError",
     "evalue": "'TrainingConfig' object has no attribute 'params_learning_rate'",
     "output_type": "error",
     "traceback": [
      "\u001b[31m---------------------------------------------------------------------------\u001b[39m",
      "\u001b[31mAttributeError\u001b[39m                            Traceback (most recent call last)",
      "\u001b[36mCell\u001b[39m\u001b[36m \u001b[39m\u001b[32mIn[139]\u001b[39m\u001b[32m, line 20\u001b[39m\n\u001b[32m     18\u001b[39m \u001b[38;5;28;01mexcept\u001b[39;00m \u001b[38;5;167;01mException\u001b[39;00m \u001b[38;5;28;01mas\u001b[39;00m e:\n\u001b[32m     19\u001b[39m     logging.error(\u001b[33mf\u001b[39m\u001b[33m\"\u001b[39m\u001b[33mError in loading configuration_training: \u001b[39m\u001b[38;5;132;01m{\u001b[39;00me\u001b[38;5;132;01m}\u001b[39;00m\u001b[33m\"\u001b[39m)\n\u001b[32m---> \u001b[39m\u001b[32m20\u001b[39m     \u001b[38;5;28;01mraise\u001b[39;00m e\n",
      "\u001b[36mCell\u001b[39m\u001b[36m \u001b[39m\u001b[32mIn[139]\u001b[39m\u001b[32m, line 13\u001b[39m\n\u001b[32m     11\u001b[39m training_config = config.get_training_config()\n\u001b[32m     12\u001b[39m training = Training(config=training_config)\n\u001b[32m---> \u001b[39m\u001b[32m13\u001b[39m \u001b[43mtraining\u001b[49m\u001b[43m.\u001b[49m\u001b[43mget_base_model\u001b[49m\u001b[43m(\u001b[49m\u001b[43m)\u001b[49m\n\u001b[32m     14\u001b[39m training.train_valid_generator()\n\u001b[32m     15\u001b[39m training.train(\n\u001b[32m     16\u001b[39m     callback_List=callbacks\n\u001b[32m     17\u001b[39m )\n",
      "\u001b[36mCell\u001b[39m\u001b[36m \u001b[39m\u001b[32mIn[137]\u001b[39m\u001b[32m, line 11\u001b[39m, in \u001b[36mTraining.get_base_model\u001b[39m\u001b[34m(self)\u001b[39m\n\u001b[32m      6\u001b[39m     \u001b[38;5;28mself\u001b[39m.model = tf.keras.models.load_model(\u001b[38;5;28mself\u001b[39m.config.updated_base_model_path)\n\u001b[32m      8\u001b[39m \u001b[38;5;66;03m# 🔁 Recompile with a new optimizer to avoid optimizer-variable mismatch errors\u001b[39;00m\n\u001b[32m      9\u001b[39m     \u001b[38;5;28mself\u001b[39m.model.compile(\n\u001b[32m     10\u001b[39m     loss=\u001b[33m'\u001b[39m\u001b[33msparse_categorical_crossentropy\u001b[39m\u001b[33m'\u001b[39m,\n\u001b[32m---> \u001b[39m\u001b[32m11\u001b[39m     optimizer=tf.keras.optimizers.SGD(learning_rate=\u001b[38;5;28;43mself\u001b[39;49m\u001b[43m.\u001b[49m\u001b[43mconfig\u001b[49m\u001b[43m.\u001b[49m\u001b[43mparams_learning_rate\u001b[49m),\n\u001b[32m     12\u001b[39m     metrics=[\u001b[33m'\u001b[39m\u001b[33maccuracy\u001b[39m\u001b[33m'\u001b[39m]\n\u001b[32m     13\u001b[39m     )\n\u001b[32m     15\u001b[39m     logging.info(\u001b[33mf\u001b[39m\u001b[33m\"\u001b[39m\u001b[33mBase model loaded and recompiled from \u001b[39m\u001b[38;5;132;01m{\u001b[39;00m\u001b[38;5;28mself\u001b[39m.config.updated_base_model_path\u001b[38;5;132;01m}\u001b[39;00m\u001b[33m\"\u001b[39m)\n",
      "\u001b[31mAttributeError\u001b[39m: 'TrainingConfig' object has no attribute 'params_learning_rate'"
     ]
    }
   ],
   "source": [
    "#pipeline\n",
    "\n",
    "try :\n",
    "    config = ConfigurationManager()\n",
    "    prepare_callbacks_config = config.get_prepare_callbacks_config()\n",
    "    prepare_callbacks = PrepareCallbacks(config=prepare_callbacks_config)\n",
    "    callbacks = prepare_callbacks.get_callbacks()\n",
    "    logging.info(f\"Callbacks: {callbacks}\")\n",
    "\n",
    "\n",
    "    training_config = config.get_training_config()\n",
    "    training = Training(config=training_config)\n",
    "    training.get_base_model()\n",
    "    training.train_valid_generator()\n",
    "    training.train(\n",
    "        callback_List=callbacks\n",
    "    )\n",
    "except Exception as e:\n",
    "    logging.error(f\"Error in loading configuration_training: {e}\")\n",
    "    raise e"
   ]
  }
 ],
 "metadata": {
  "kernelspec": {
   "display_name": ".venv",
   "language": "python",
   "name": "python3"
  },
  "language_info": {
   "codemirror_mode": {
    "name": "ipython",
    "version": 3
   },
   "file_extension": ".py",
   "mimetype": "text/x-python",
   "name": "python",
   "nbconvert_exporter": "python",
   "pygments_lexer": "ipython3",
   "version": "3.11.2"
  }
 },
 "nbformat": 4,
 "nbformat_minor": 5
}
