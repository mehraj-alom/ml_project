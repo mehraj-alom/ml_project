{
 "cells": [
  {
   "cell_type": "code",
   "execution_count": null,
   "id": "20d2d341",
   "metadata": {},
   "outputs": [],
   "source": []
  },
  {
   "cell_type": "code",
   "execution_count": 29,
   "id": "26329b07",
   "metadata": {},
   "outputs": [
    {
     "name": "stdout",
     "output_type": "stream",
     "text": [
      "/home/mehrajofficial000/venv/ml_project\n"
     ]
    }
   ],
   "source": [
    "import os\n",
    "!pwd"
   ]
  },
  {
   "cell_type": "code",
   "execution_count": 30,
   "id": "3751323c",
   "metadata": {},
   "outputs": [],
   "source": [
    "#os.chdir(\"../\")"
   ]
  },
  {
   "cell_type": "code",
   "execution_count": 31,
   "id": "6131c320",
   "metadata": {},
   "outputs": [
    {
     "name": "stdout",
     "output_type": "stream",
     "text": [
      "/home/mehrajofficial000/venv/ml_project\n"
     ]
    }
   ],
   "source": [
    "!pwd"
   ]
  },
  {
   "cell_type": "code",
   "execution_count": 32,
   "id": "9e2abebc",
   "metadata": {},
   "outputs": [],
   "source": [
    "#entity \n",
    "from dataclasses import dataclass\n",
    "from pathlib import Path\n",
    "\n",
    "@dataclass(frozen=True)\n",
    "class PrepareCallbacksConfig:\n",
    "    root_dir: Path\n",
    "    tensorboard_root_log_dir: Path\n",
    "    checkpoint_model_path: Path"
   ]
  },
  {
   "cell_type": "code",
   "execution_count": 33,
   "id": "b043a855",
   "metadata": {},
   "outputs": [],
   "source": [
    "#configureation manager\n",
    "from Classifier.constants import *\n",
    "from Classifier.utils.utilities import read_yaml, create_directories\n",
    "\n",
    "class ConfigureationManager:\n",
    "    def __init__(self, config_file_path = CONFIG_FILE_PATH , params_file_path = PARAMS_FILE_PATH):\n",
    "        self.config = read_yaml(config_file_path)\n",
    "        self.params = read_yaml(params_file_path)\n",
    "        \n",
    "        create_directories([self.config.artifacts_root])\n",
    "    \n",
    "    def get_prepare_callbacks_config(self) -> PrepareCallbacksConfig:\n",
    "        config = self.config.prepare_callbacks\n",
    "        model_checkpoint_dir = os.path.dirname(config.checkpoint_model_path)\n",
    "        create_directories([\n",
    "            Path(model_checkpoint_dir),\n",
    "            Path(config.tensorboard_root_log_dir),\n",
    "        ])\n",
    "        prepare_callbacks_config = PrepareCallbacksConfig(\n",
    "            root_dir=Path(config.root_dir),\n",
    "            tensorboard_root_log_dir=Path(config.tensorboard_root_log_dir),\n",
    "            checkpoint_model_path=Path(config.checkpoint_model_path)\n",
    "        )\n",
    "        return prepare_callbacks_config\n"
   ]
  },
  {
   "cell_type": "code",
   "execution_count": 34,
   "id": "5c227dfb",
   "metadata": {},
   "outputs": [],
   "source": [
    "#Components\n",
    "import os\n",
    "import urllib.request as request\n",
    "from zipfile import ZipFile\n",
    "import tensorflow as tf \n",
    "import time \n",
    "import logging\n",
    "\n",
    "class PrepareCallbacks:\n",
    "    def __init__(self, config: PrepareCallbacksConfig):\n",
    "        self.config = config\n",
    "    \n",
    "    @property\n",
    "    def _create_tb_callbacks(self):\n",
    "        timestamp = time.strftime(\"%Y-%m-%d-%H-%M-%S\")\n",
    "        tb_running_log_dir = os.path.join(\n",
    "            self.config.tensorboard_root_log_dir, \n",
    "            f\"tb_logs_at-{timestamp}\"\n",
    "        )\n",
    "        logging.info(f\"Tensorboard log dir: {tb_running_log_dir}\")\n",
    "        return tf.keras.callbacks.TensorBoard(\n",
    "            log_dir=tb_running_log_dir,\n",
    "            histogram_freq=1, #Problem might occur \n",
    "            write_graph=True,  \n",
    "            write_images=True,\n",
    "            update_freq=\"epoch\",\n",
    "        )\n",
    "    \n",
    "    @property\n",
    "    def _create_checkpoint_callback(self):\n",
    "        logging.info(f\"Checkpoint dir: --->>>>> creating checkpoint dir ----->\")\n",
    "        return tf.keras.callbacks.ModelCheckpoint(\n",
    "            filepath = self.config.checkpoint_model_path,\n",
    "            monitor = \"val_accuracy\", #problems might occur \n",
    "            save_best_only = True,\n",
    "        )\n",
    "    \n",
    "    def get_callbacks(self):\n",
    "        logging.info(\"Preparing callbacks\")\n",
    "        return [\n",
    "            self._create_tb_callbacks,\n",
    "            self._create_checkpoint_callback\n",
    "        ]\n",
    "         \n",
    "        "
   ]
  },
  {
   "cell_type": "code",
   "execution_count": null,
   "id": "2ab091f1",
   "metadata": {},
   "outputs": [
    {
     "name": "stdout",
     "output_type": "stream",
     "text": [
      "[2025-08-02 11:04:38,279] INFO: utilities: YAML file config/config.yaml loaded successfully.]\n",
      "[2025-08-02 11:04:38,282] INFO: utilities: YAML file params.yaml loaded successfully.]\n",
      "[2025-08-02 11:04:38,285] INFO: utilities: Directory craeted at artifacts]\n",
      "[2025-08-02 11:04:38,286] INFO: utilities: Directory craeted at artifacts/prepare_callbacks/checkpoint_dir]\n",
      "[2025-08-02 11:04:38,288] INFO: utilities: Directory craeted at artifacts/prepare_callbacks/tensorboard_log_dir]\n",
      "[2025-08-02 11:04:38,290] INFO: 255290885: Preparing callbacks]\n",
      "[2025-08-02 11:04:38,292] INFO: 255290885: Tensorboard log dir: artifacts/prepare_callbacks/tensorboard_log_dir/tb_logs_at-2025-08-02-11-04-38]\n"
     ]
    },
    {
     "name": "stdout",
     "output_type": "stream",
     "text": [
      "[2025-08-02 11:04:38,293] INFO: 255290885: Checkpoint dir: --->>>>> creating checkpoint dir ----->]\n",
      "[2025-08-02 11:04:38,295] INFO: 660380686: Callbacks: [<keras.src.callbacks.tensorboard.TensorBoard object at 0x7f038c237590>, <keras.src.callbacks.model_checkpoint.ModelCheckpoint object at 0x7f038e860590>]]\n"
     ]
    }
   ],
   "source": [
    "#pipeline\n",
    "\n",
    "try :\n",
    "    config = ConfigureationManager()\n",
    "    prepare_callbacks_config = config.get_prepare_callbacks_config()\n",
    "    prepare_callbacks = PrepareCallbacks(config=prepare_callbacks_config)\n",
    "    callbacks = prepare_callbacks.get_callbacks()\n",
    "    logging.info(f\"Callbacks: {callbacks}\")\n",
    "except Exception as e:\n",
    "    logging.error(f\"Error in loading configuration: {e}\")\n",
    "    raise e"
   ]
  }
 ],
 "metadata": {
  "kernelspec": {
   "display_name": ".venv",
   "language": "python",
   "name": "python3"
  },
  "language_info": {
   "codemirror_mode": {
    "name": "ipython",
    "version": 3
   },
   "file_extension": ".py",
   "mimetype": "text/x-python",
   "name": "python",
   "nbconvert_exporter": "python",
   "pygments_lexer": "ipython3",
   "version": "3.11.2"
  }
 },
 "nbformat": 4,
 "nbformat_minor": 5
}
